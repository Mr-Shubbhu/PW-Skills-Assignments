{
 "cells": [
  {
   "cell_type": "markdown",
   "id": "9d4b4cd5",
   "metadata": {},
   "source": [
    "## Theory Questions"
   ]
  },
  {
   "cell_type": "markdown",
   "id": "c54a0c61",
   "metadata": {},
   "source": [
    "### 1. What is Object-Oriented Programming (OOP)\n",
    "\n",
    "Object-Oriented Programming (OOP) is a programming paradigm that organizes software design around data, or objects, rather than functions and logic. It uses concepts such as classes, objects, inheritance, polymorphism, encapsulation, and abstraction."
   ]
  },
  {
   "cell_type": "markdown",
   "id": "f91d4fde",
   "metadata": {},
   "source": [
    "### 2. What is a class in OOP\n",
    "\n",
    "A class is a blueprint for creating objects. It defines a set of attributes and methods that the created objects will have."
   ]
  },
  {
   "cell_type": "markdown",
   "id": "ae04e97d",
   "metadata": {},
   "source": [
    "### 3. What is an object in OOP\n",
    "\n",
    "An object is an instance of a class. It contains actual values for the attributes defined by the class and can use the class's methods."
   ]
  },
  {
   "cell_type": "markdown",
   "id": "75927ac9",
   "metadata": {},
   "source": [
    "### 4. What is the difference between abstraction and encapsulation\n",
    "\n",
    "Abstraction hides implementation details and shows only essential features. Encapsulation restricts access to internal data by wrapping it within methods."
   ]
  },
  {
   "cell_type": "markdown",
   "id": "c92890c8",
   "metadata": {},
   "source": [
    "### 5. What are dunder methods in Python\n",
    "\n",
    "Dunder (double underscore) methods are special methods in Python that begin and end with double underscores, like `__init__`, `__str__`, and `__add__`. They are used to define the behavior of objects for built-in operations."
   ]
  },
  {
   "cell_type": "markdown",
   "id": "4ff5842b",
   "metadata": {},
   "source": [
    "### 6. Explain the concept of inheritance in OOP\n",
    "\n",
    "Inheritance allows one class (child) to acquire the properties and behaviors (methods) of another class (parent), promoting code reuse."
   ]
  },
  {
   "cell_type": "markdown",
   "id": "bfaad84b",
   "metadata": {},
   "source": [
    "### 7. What is polymorphism in OOP\n",
    "\n",
    "Polymorphism allows objects of different classes to be treated as objects of a common superclass. It enables the same method to behave differently on different classes."
   ]
  },
  {
   "cell_type": "markdown",
   "id": "90a9d788",
   "metadata": {},
   "source": [
    "### 8. How is encapsulation achieved in Python\n",
    "\n",
    "Encapsulation is achieved using access modifiers. In Python, prefixing an attribute with a single or double underscore (`_` or `__`) indicates restricted access."
   ]
  },
  {
   "cell_type": "markdown",
   "id": "7a33f384",
   "metadata": {},
   "source": [
    "### 9. What is a constructor in Python\n",
    "\n",
    "A constructor is a special method `__init__` that is automatically called when an object is created. It is used to initialize the object."
   ]
  },
  {
   "cell_type": "markdown",
   "id": "6cbe0864",
   "metadata": {},
   "source": [
    "### 10. What are class and static methods in Python\n",
    "\n",
    "Class methods use the `@classmethod` decorator and take `cls` as the first argument. Static methods use `@staticmethod` and do not take `self` or `cls`."
   ]
  },
  {
   "cell_type": "markdown",
   "id": "01582893",
   "metadata": {},
   "source": [
    "### 11. What is method overloading in Python\n",
    "\n",
    "Python does not support traditional method overloading. It can be simulated using default arguments or variable-length arguments."
   ]
  },
  {
   "cell_type": "markdown",
   "id": "3a2f9468",
   "metadata": {},
   "source": [
    "### 12. What is method overriding in OOP\n",
    "\n",
    "Method overriding occurs when a subclass provides a specific implementation of a method that is already defined in its superclass."
   ]
  },
  {
   "cell_type": "markdown",
   "id": "8ea2d602",
   "metadata": {},
   "source": [
    "### 13. What is a property decorator in Python\n",
    "\n",
    "The `@property` decorator allows to define methods that can be accessed like attributes, useful for getter/setter behavior."
   ]
  },
  {
   "cell_type": "markdown",
   "id": "739370d5",
   "metadata": {},
   "source": [
    "### 14. Why is polymorphism important in OOP\n",
    "\n",
    "Polymorphism promotes flexibility and reusability by allowing objects of different types to be treated uniformly."
   ]
  },
  {
   "cell_type": "markdown",
   "id": "cd9a146a",
   "metadata": {},
   "source": [
    "### 15. What is an abstract class in Python\n",
    "\n",
    "An abstract class contains one or more abstract methods and cannot be instantiated directly. It is used to define a common interface."
   ]
  },
  {
   "cell_type": "markdown",
   "id": "1dfcd482",
   "metadata": {},
   "source": [
    "### 16. What are the advantages of OOP\n",
    "\n",
    "Advantages of OOP include modularity, code reuse, scalability, easier troubleshooting, and improved collaboration."
   ]
  },
  {
   "cell_type": "markdown",
   "id": "62b7545b",
   "metadata": {},
   "source": [
    "### 17. What is the difference between a class variable and an instance variable\n",
    "\n",
    "A class variable is shared across all instances of a class, while an instance variable is unique to each object."
   ]
  },
  {
   "cell_type": "markdown",
   "id": "51e143a7",
   "metadata": {},
   "source": [
    "### 18. What is multiple inheritance in Python\n",
    "\n",
    "Multiple inheritance allows a class to inherit from more than one parent class."
   ]
  },
  {
   "cell_type": "markdown",
   "id": "ea7ca87c",
   "metadata": {},
   "source": [
    "### 19. Explain the purpose of `__str__` and `__repr__` methods in Python\n",
    "\n",
    "`__str__` returns a readable string for the end user, while `__repr__` returns an unambiguous representation for developers."
   ]
  },
  {
   "cell_type": "markdown",
   "id": "1cd034eb",
   "metadata": {},
   "source": [
    "### 20. What is the significance of the `super()` function in Python\n",
    "\n",
    "`super()` is used to call methods of the parent class, often in constructors or overridden methods."
   ]
  },
  {
   "cell_type": "markdown",
   "id": "e72ed4be",
   "metadata": {},
   "source": [
    "### 21. What is the significance of the `__del__` method in Python\n",
    "\n",
    "`__del__` is a destructor method that is called when an object is about to be destroyed."
   ]
  },
  {
   "cell_type": "markdown",
   "id": "8224b4b7",
   "metadata": {},
   "source": [
    "### 22. What is the difference between @staticmethod and @classmethod in Python\n",
    "\n",
    "`@staticmethod` does not take `self` or `cls` and cannot access class or instance data. `@classmethod` takes `cls` and can access class-level data."
   ]
  },
  {
   "cell_type": "markdown",
   "id": "f380a6cb",
   "metadata": {},
   "source": [
    "### 23. How does polymorphism work in Python with inheritance\n",
    "\n",
    "In inheritance, polymorphism works by allowing overridden methods in subclasses to be called through references to the superclass."
   ]
  },
  {
   "cell_type": "markdown",
   "id": "1587e955",
   "metadata": {},
   "source": [
    "### 24. What is method chaining in Python OOP\n",
    "\n",
    "Method chaining is a technique where multiple methods are called on the same object in a single line."
   ]
  },
  {
   "cell_type": "markdown",
   "id": "a963b0ce",
   "metadata": {},
   "source": [
    "### 25. What is the purpose of the `__call__` method in Python\n",
    "\n",
    "`__call__` allows an object to be called as a function, enabling function-like behavior."
   ]
  },
  {
   "cell_type": "markdown",
   "id": "ff7884c9",
   "metadata": {},
   "source": [
    "\n",
    "---\n",
    "\n",
    "## Practical Questions"
   ]
  },
  {
   "cell_type": "markdown",
   "id": "a22b16da",
   "metadata": {},
   "source": [
    "### Q1. Create a parent class Animal with a method speak() that prints a generic message. Create a child class Dog that overrides the speak() method to print \"Bark!\"."
   ]
  },
  {
   "cell_type": "code",
   "execution_count": 1,
   "id": "9196ab39",
   "metadata": {},
   "outputs": [
    {
     "name": "stdout",
     "output_type": "stream",
     "text": [
      "Bark!\n"
     ]
    }
   ],
   "source": [
    "class Animal:\n",
    "    def speak(self):\n",
    "        print(\"This is a generic animal sound.\")\n",
    "\n",
    "class Dog(Animal):\n",
    "    def speak(self):\n",
    "        print(\"Bark!\")\n",
    "\n",
    "# Example usage\n",
    "dog = Dog()\n",
    "dog.speak()"
   ]
  },
  {
   "cell_type": "markdown",
   "id": "0113c52e",
   "metadata": {},
   "source": [
    "### Q2. Write a program to create an abstract class Shape with a method area(). Derive classes Circle and Rectangle from it and implement the area() method in both."
   ]
  },
  {
   "cell_type": "code",
   "execution_count": 2,
   "id": "73ff4eba",
   "metadata": {},
   "outputs": [
    {
     "name": "stdout",
     "output_type": "stream",
     "text": [
      "Circle area: 78.53981633974483\n",
      "Rectangle area: 24\n"
     ]
    }
   ],
   "source": [
    "from abc import ABC, abstractmethod\n",
    "import math\n",
    "\n",
    "class Shape(ABC):\n",
    "    @abstractmethod\n",
    "    def area(self):\n",
    "        pass\n",
    "\n",
    "class Circle(Shape):\n",
    "    def __init__(self, radius):\n",
    "        self.radius = radius\n",
    "\n",
    "    def area(self):\n",
    "        return math.pi * self.radius ** 2\n",
    "\n",
    "class Rectangle(Shape):\n",
    "    def __init__(self, width, height):\n",
    "        self.width = width\n",
    "        self.height = height\n",
    "\n",
    "    def area(self):\n",
    "        return self.width * self.height\n",
    "\n",
    "# Example usage\n",
    "circle = Circle(5)\n",
    "rectangle = Rectangle(4, 6)\n",
    "print(\"Circle area:\", circle.area())\n",
    "print(\"Rectangle area:\", rectangle.area())"
   ]
  },
  {
   "cell_type": "markdown",
   "id": "c62d63db",
   "metadata": {},
   "source": [
    "### Q3. Implement a multi-level inheritance scenario where a class Vehicle has an attribute type. Derive a class Car and further derive a class ElectricCar that adds a battery attribute."
   ]
  },
  {
   "cell_type": "code",
   "execution_count": 3,
   "id": "879523cc",
   "metadata": {},
   "outputs": [
    {
     "name": "stdout",
     "output_type": "stream",
     "text": [
      "{'type': '4-wheeler', 'brand': 'Tesla', 'battery': '100 kWh'}\n"
     ]
    }
   ],
   "source": [
    "class Vehicle:\n",
    "    def __init__(self, type):\n",
    "        self.type = type\n",
    "\n",
    "class Car(Vehicle):\n",
    "    def __init__(self, type, brand):\n",
    "        super().__init__(type)\n",
    "        self.brand = brand\n",
    "\n",
    "class ElectricCar(Car):\n",
    "    def __init__(self, type, brand, battery):\n",
    "        super().__init__(type, brand)\n",
    "        self.battery = battery\n",
    "\n",
    "# Example usage\n",
    "ecar = ElectricCar(\"4-wheeler\", \"Tesla\", \"100 kWh\")\n",
    "print(vars(ecar))"
   ]
  },
  {
   "cell_type": "markdown",
   "id": "eec42781",
   "metadata": {},
   "source": [
    "### Q4. Demonstrate polymorphism by creating a base class Bird with a method fly(). Create two derived classes Sparrow and Penguin that override the fly() method."
   ]
  },
  {
   "cell_type": "code",
   "execution_count": 4,
   "id": "fa567647",
   "metadata": {},
   "outputs": [
    {
     "name": "stdout",
     "output_type": "stream",
     "text": [
      "Sparrow flies in the sky.\n",
      "Penguins cannot fly.\n"
     ]
    }
   ],
   "source": [
    "class Bird:\n",
    "    def fly(self):\n",
    "        print(\"Flying high!\")\n",
    "\n",
    "class Sparrow(Bird):\n",
    "    def fly(self):\n",
    "        print(\"Sparrow flies in the sky.\")\n",
    "\n",
    "class Penguin(Bird):\n",
    "    def fly(self):\n",
    "        print(\"Penguins cannot fly.\")\n",
    "\n",
    "# Example usage\n",
    "birds = [Sparrow(), Penguin()]\n",
    "for bird in birds:\n",
    "    bird.fly()"
   ]
  },
  {
   "cell_type": "markdown",
   "id": "9ef0a6b2",
   "metadata": {},
   "source": [
    "### Q5. Write a program to demonstrate encapsulation by creating a class BankAccount with private attributes balance and methods to deposit, withdraw, and check balance."
   ]
  },
  {
   "cell_type": "code",
   "execution_count": 5,
   "id": "180defd9",
   "metadata": {},
   "outputs": [
    {
     "name": "stdout",
     "output_type": "stream",
     "text": [
      "Balance: 700\n"
     ]
    }
   ],
   "source": [
    "class BankAccount:\n",
    "    def __init__(self):\n",
    "        self.__balance = 0\n",
    "\n",
    "    def deposit(self, amount):\n",
    "        if amount > 0:\n",
    "            self.__balance += amount\n",
    "\n",
    "    def withdraw(self, amount):\n",
    "        if 0 < amount <= self.__balance:\n",
    "            self.__balance -= amount\n",
    "\n",
    "    def check_balance(self):\n",
    "        return self.__balance\n",
    "\n",
    "# Example usage\n",
    "account = BankAccount()\n",
    "account.deposit(1000)\n",
    "account.withdraw(300)\n",
    "print(\"Balance:\", account.check_balance())"
   ]
  },
  {
   "cell_type": "markdown",
   "id": "934952e4",
   "metadata": {},
   "source": [
    "### Q6. Demonstrate runtime polymorphism using a method play() in a base class Instrument. Derive classes Guitar and Piano that implement their own version of play()."
   ]
  },
  {
   "cell_type": "code",
   "execution_count": 6,
   "id": "c48c1db9",
   "metadata": {},
   "outputs": [
    {
     "name": "stdout",
     "output_type": "stream",
     "text": [
      "Strumming the guitar.\n",
      "Playing the piano.\n"
     ]
    }
   ],
   "source": [
    "class Instrument:\n",
    "    def play(self):\n",
    "        print(\"Playing an instrument.\")\n",
    "\n",
    "class Guitar(Instrument):\n",
    "    def play(self):\n",
    "        print(\"Strumming the guitar.\")\n",
    "\n",
    "class Piano(Instrument):\n",
    "    def play(self):\n",
    "        print(\"Playing the piano.\")\n",
    "\n",
    "# Example usage\n",
    "instruments = [Guitar(), Piano()]\n",
    "for instr in instruments:\n",
    "    instr.play()"
   ]
  },
  {
   "cell_type": "markdown",
   "id": "e8dbe704",
   "metadata": {},
   "source": [
    "### Q7. Create a class MathOperations with a class method add_numbers() to add two numbers and a static method subtract_numbers() to subtract two numbers."
   ]
  },
  {
   "cell_type": "code",
   "execution_count": 7,
   "id": "93dacdd5",
   "metadata": {},
   "outputs": [
    {
     "name": "stdout",
     "output_type": "stream",
     "text": [
      "15\n",
      "5\n"
     ]
    }
   ],
   "source": [
    "class MathOperations:\n",
    "    @classmethod\n",
    "    def add_numbers(cls, a, b):\n",
    "        return a + b\n",
    "\n",
    "    @staticmethod\n",
    "    def subtract_numbers(a, b):\n",
    "        return a - b\n",
    "\n",
    "# Example usage\n",
    "print(MathOperations.add_numbers(10, 5))\n",
    "print(MathOperations.subtract_numbers(10, 5))"
   ]
  },
  {
   "cell_type": "markdown",
   "id": "16d458ed",
   "metadata": {},
   "source": [
    "### Q8. Implement a class Person with a class method to count the total number of persons created."
   ]
  },
  {
   "cell_type": "code",
   "execution_count": 8,
   "id": "a622093d",
   "metadata": {},
   "outputs": [
    {
     "name": "stdout",
     "output_type": "stream",
     "text": [
      "Total persons: 2\n"
     ]
    }
   ],
   "source": [
    "class Person:\n",
    "    count = 0\n",
    "\n",
    "    def __init__(self, name):\n",
    "        self.name = name\n",
    "        Person.count += 1\n",
    "\n",
    "    @classmethod\n",
    "    def get_person_count(cls):\n",
    "        return cls.count\n",
    "\n",
    "# Example usage\n",
    "p1 = Person(\"Alice\")\n",
    "p2 = Person(\"Bob\")\n",
    "print(\"Total persons:\", Person.get_person_count())"
   ]
  },
  {
   "cell_type": "markdown",
   "id": "faf84078",
   "metadata": {},
   "source": [
    "### Q9. Write a class Fraction with attributes numerator and denominator. Override the str method to display the fraction as \"numerator/denominator\"."
   ]
  },
  {
   "cell_type": "code",
   "execution_count": 9,
   "id": "674ee9e2",
   "metadata": {},
   "outputs": [
    {
     "name": "stdout",
     "output_type": "stream",
     "text": [
      "3/4\n"
     ]
    }
   ],
   "source": [
    "class Fraction:\n",
    "    def __init__(self, numerator, denominator):\n",
    "        self.numerator = numerator\n",
    "        self.denominator = denominator\n",
    "\n",
    "    def __str__(self):\n",
    "        return f\"{self.numerator}/{self.denominator}\"\n",
    "\n",
    "# Example usage\n",
    "f = Fraction(3, 4)\n",
    "print(f)"
   ]
  },
  {
   "cell_type": "markdown",
   "id": "94309ef0",
   "metadata": {},
   "source": [
    "### Q10. Demonstrate operator overloading by creating a class Vector and overriding the add method to add two vectors."
   ]
  },
  {
   "cell_type": "code",
   "execution_count": 10,
   "id": "9ce33012",
   "metadata": {},
   "outputs": [
    {
     "name": "stdout",
     "output_type": "stream",
     "text": [
      "Vector(4, 6)\n"
     ]
    }
   ],
   "source": [
    "class Vector:\n",
    "    def __init__(self, x, y):\n",
    "        self.x = x\n",
    "        self.y = y\n",
    "\n",
    "    def __add__(self, other):\n",
    "        return Vector(self.x + other.x, self.y + other.y)\n",
    "\n",
    "    def __str__(self):\n",
    "        return f\"Vector({self.x}, {self.y})\"\n",
    "\n",
    "# Example usage\n",
    "v1 = Vector(1, 2)\n",
    "v2 = Vector(3, 4)\n",
    "print(v1 + v2)"
   ]
  },
  {
   "cell_type": "markdown",
   "id": "229eaa68",
   "metadata": {},
   "source": [
    "### Q11. Create a class Person with attributes name and age. Add a method greet() that prints \"Hello, my name is {name} and I am {age} years old.\""
   ]
  },
  {
   "cell_type": "code",
   "execution_count": 11,
   "id": "963c47d7",
   "metadata": {},
   "outputs": [
    {
     "name": "stdout",
     "output_type": "stream",
     "text": [
      "Hello, my name is Charlie and I am 30 years old.\n"
     ]
    }
   ],
   "source": [
    "class Person:\n",
    "    def __init__(self, name, age):\n",
    "        self.name = name\n",
    "        self.age = age\n",
    "\n",
    "    def greet(self):\n",
    "        print(f\"Hello, my name is {self.name} and I am {self.age} years old.\")\n",
    "\n",
    "# Example usage\n",
    "p = Person(\"Charlie\", 30)\n",
    "p.greet()"
   ]
  },
  {
   "cell_type": "markdown",
   "id": "47ae26ab",
   "metadata": {},
   "source": [
    "### Q12. Implement a class Student with attributes name and grades. Create a method average_grade() to compute the average of the grades."
   ]
  },
  {
   "cell_type": "code",
   "execution_count": 12,
   "id": "b7f7e4aa",
   "metadata": {},
   "outputs": [
    {
     "name": "stdout",
     "output_type": "stream",
     "text": [
      "Average grade: 84.33333333333333\n"
     ]
    }
   ],
   "source": [
    "class Student:\n",
    "    def __init__(self, name, grades):\n",
    "        self.name = name\n",
    "        self.grades = grades\n",
    "\n",
    "    def average_grade(self):\n",
    "        return sum(self.grades) / len(self.grades)\n",
    "\n",
    "# Example usage\n",
    "s = Student(\"David\", [85, 90, 78])\n",
    "print(\"Average grade:\", s.average_grade())"
   ]
  },
  {
   "cell_type": "markdown",
   "id": "f598fe06",
   "metadata": {},
   "source": [
    "### Q13. Create a class Rectangle with methods set_dimensions() to set the dimensions and area() to calculate the area."
   ]
  },
  {
   "cell_type": "code",
   "execution_count": 13,
   "id": "c65e6b09",
   "metadata": {},
   "outputs": [
    {
     "name": "stdout",
     "output_type": "stream",
     "text": [
      "Area: 50\n"
     ]
    }
   ],
   "source": [
    "class Rectangle:\n",
    "    def set_dimensions(self, width, height):\n",
    "        self.width = width\n",
    "        self.height = height\n",
    "\n",
    "    def area(self):\n",
    "        return self.width * self.height\n",
    "\n",
    "# Example usage\n",
    "r = Rectangle()\n",
    "r.set_dimensions(5, 10)\n",
    "print(\"Area:\", r.area())"
   ]
  },
  {
   "cell_type": "markdown",
   "id": "77b8d92b",
   "metadata": {},
   "source": [
    "### Q14. Create a class Employee with a method calculate_salary() that computes the salary based on hours worked and hourly rate. Create a derived class Manager that adds a bonus to the salary."
   ]
  },
  {
   "cell_type": "code",
   "execution_count": 14,
   "id": "be24cbe5",
   "metadata": {},
   "outputs": [
    {
     "name": "stdout",
     "output_type": "stream",
     "text": [
      "Manager salary: 2200\n"
     ]
    }
   ],
   "source": [
    "class Employee:\n",
    "    def __init__(self, hours_worked, hourly_rate):\n",
    "        self.hours_worked = hours_worked\n",
    "        self.hourly_rate = hourly_rate\n",
    "\n",
    "    def calculate_salary(self):\n",
    "        return self.hours_worked * self.hourly_rate\n",
    "\n",
    "class Manager(Employee):\n",
    "    def __init__(self, hours_worked, hourly_rate, bonus):\n",
    "        super().__init__(hours_worked, hourly_rate)\n",
    "        self.bonus = bonus\n",
    "\n",
    "    def calculate_salary(self):\n",
    "        return super().calculate_salary() + self.bonus\n",
    "\n",
    "# Example usage\n",
    "m = Manager(40, 50, 200)\n",
    "print(\"Manager salary:\", m.calculate_salary())"
   ]
  },
  {
   "cell_type": "markdown",
   "id": "ea0cf184",
   "metadata": {},
   "source": [
    "### Q15. Create a class Product with attributes name, price, and quantity. Implement a method total_price() that calculates the total price of the product."
   ]
  },
  {
   "cell_type": "code",
   "execution_count": 15,
   "id": "9a98e0de",
   "metadata": {},
   "outputs": [
    {
     "name": "stdout",
     "output_type": "stream",
     "text": [
      "Total price: 1600\n"
     ]
    }
   ],
   "source": [
    "class Product:\n",
    "    def __init__(self, name, price, quantity):\n",
    "        self.name = name\n",
    "        self.price = price\n",
    "        self.quantity = quantity\n",
    "\n",
    "    def total_price(self):\n",
    "        return self.price * self.quantity\n",
    "\n",
    "# Example usage\n",
    "p = Product(\"Laptop\", 800, 2)\n",
    "print(\"Total price:\", p.total_price())"
   ]
  },
  {
   "cell_type": "markdown",
   "id": "14a650a5",
   "metadata": {},
   "source": [
    "### Q16. Create a class Animal with an abstract method sound(). Create two derived classes Cow and Sheep that implement the sound() method."
   ]
  },
  {
   "cell_type": "code",
   "execution_count": 16,
   "id": "df025447",
   "metadata": {},
   "outputs": [
    {
     "name": "stdout",
     "output_type": "stream",
     "text": [
      "Moo\n",
      "Baa\n"
     ]
    }
   ],
   "source": [
    "from abc import ABC, abstractmethod\n",
    "\n",
    "class Animal(ABC):\n",
    "    @abstractmethod\n",
    "    def sound(self):\n",
    "        pass\n",
    "\n",
    "class Cow(Animal):\n",
    "    def sound(self):\n",
    "        print(\"Moo\")\n",
    "\n",
    "class Sheep(Animal):\n",
    "    def sound(self):\n",
    "        print(\"Baa\")\n",
    "\n",
    "# Example usage\n",
    "cow = Cow()\n",
    "sheep = Sheep()\n",
    "cow.sound()\n",
    "sheep.sound()"
   ]
  },
  {
   "cell_type": "markdown",
   "id": "b3f1f1f7",
   "metadata": {},
   "source": [
    "### Q17. Create a class Book with attributes title, author, and year_published. Add a method get_book_info() that returns a formatted string with the book's details."
   ]
  },
  {
   "cell_type": "code",
   "execution_count": 17,
   "id": "32e4ead3",
   "metadata": {},
   "outputs": [
    {
     "name": "stdout",
     "output_type": "stream",
     "text": [
      "1984 by George Orwell, published in 1949\n"
     ]
    }
   ],
   "source": [
    "class Book:\n",
    "    def __init__(self, title, author, year_published):\n",
    "        self.title = title\n",
    "        self.author = author\n",
    "        self.year_published = year_published\n",
    "\n",
    "    def get_book_info(self):\n",
    "        return f\"{self.title} by {self.author}, published in {self.year_published}\"\n",
    "\n",
    "# Example usage\n",
    "b = Book(\"1984\", \"George Orwell\", 1949)\n",
    "print(b.get_book_info())"
   ]
  },
  {
   "cell_type": "markdown",
   "id": "03483320",
   "metadata": {},
   "source": [
    "### Q18. Create a class House with attributes address and price. Create a derived class Mansion that adds an attribute number_of_rooms."
   ]
  },
  {
   "cell_type": "code",
   "execution_count": 18,
   "id": "f7ea661f",
   "metadata": {},
   "outputs": [
    {
     "name": "stdout",
     "output_type": "stream",
     "text": [
      "{'address': '123 Palm Street', 'price': 2000000, 'number_of_rooms': 10}\n"
     ]
    }
   ],
   "source": [
    "class House:\n",
    "    def __init__(self, address, price):\n",
    "        self.address = address\n",
    "        self.price = price\n",
    "\n",
    "class Mansion(House):\n",
    "    def __init__(self, address, price, number_of_rooms):\n",
    "        super().__init__(address, price)\n",
    "        self.number_of_rooms = number_of_rooms\n",
    "\n",
    "# Example usage\n",
    "m = Mansion(\"123 Palm Street\", 2000000, 10)\n",
    "print(vars(m))"
   ]
  },
  {
   "cell_type": "markdown",
   "id": "8e0f9b5d",
   "metadata": {},
   "source": [
    "# ------------------------ Thank You -------------------------"
   ]
  },
  {
   "cell_type": "code",
   "execution_count": null,
   "id": "28ecca84",
   "metadata": {},
   "outputs": [],
   "source": []
  }
 ],
 "metadata": {
  "kernelspec": {
   "display_name": "Python 3 (ipykernel)",
   "language": "python",
   "name": "python3"
  },
  "language_info": {
   "codemirror_mode": {
    "name": "ipython",
    "version": 3
   },
   "file_extension": ".py",
   "mimetype": "text/x-python",
   "name": "python",
   "nbconvert_exporter": "python",
   "pygments_lexer": "ipython3",
   "version": "3.9.13"
  }
 },
 "nbformat": 4,
 "nbformat_minor": 5
}
