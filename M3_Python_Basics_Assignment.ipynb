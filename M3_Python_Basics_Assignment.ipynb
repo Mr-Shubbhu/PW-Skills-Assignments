{
 "cells": [
  {
   "cell_type": "markdown",
   "id": "c2b8553b",
   "metadata": {},
   "source": [
    "# Theory Questions"
   ]
  },
  {
   "cell_type": "markdown",
   "id": "6cf39262",
   "metadata": {},
   "source": [
    "**1. What is Python, and why is it popular?**\n",
    "\n",
    "Python is a high-level, interpreted programming language known for its easy-to-read syntax. It's popular due to its versatility, extensive libraries, large community support, and use in areas like web development, data science, automation, and artificial intelligence."
   ]
  },
  {
   "cell_type": "markdown",
   "id": "0e77dfda",
   "metadata": {},
   "source": [
    "**2. What is an interpreter in Python?**\n",
    "\n",
    "An interpreter in Python executes the code line by line, converting it into machine code at runtime. It helps in easier debugging and dynamic typing."
   ]
  },
  {
   "cell_type": "markdown",
   "id": "6e97ed08",
   "metadata": {},
   "source": [
    "**3. What are pre-defined keywords in Python?**\n",
    "\n",
    "Keywords are reserved words in Python that have special meaning and cannot be used for variable names. Examples include `if`, `else`, `while`, `True`, `False`, etc."
   ]
  },
  {
   "cell_type": "markdown",
   "id": "bc2333f0",
   "metadata": {},
   "source": [
    "**4. Can keywords be used as variable names?**\n",
    "\n",
    "No, keywords cannot be used as variable names as they are reserved for specific syntactic purposes in Python."
   ]
  },
  {
   "cell_type": "markdown",
   "id": "3c1354a0",
   "metadata": {},
   "source": [
    "**5. What is mutability in Python?**\n",
    "\n",
    "Mutability refers to whether or not an object’s state can be changed after it is created. Mutable objects can be modified, whereas immutable objects cannot."
   ]
  },
  {
   "cell_type": "markdown",
   "id": "18007f4f",
   "metadata": {},
   "source": [
    "**6. Why are lists mutable, but tuples are immutable?**\n",
    "\n",
    "Lists are designed to allow modification like adding, removing, or changing elements. Tuples are immutable for reasons like performance and integrity, where data should not change."
   ]
  },
  {
   "cell_type": "markdown",
   "id": "805cc0ac",
   "metadata": {},
   "source": [
    "**7. What is the difference between “==” and “is” operators in Python?**\n",
    "\n",
    "`==` compares the values of two objects, whereas `is` compares their identities (i.e., whether they refer to the same memory location)."
   ]
  },
  {
   "cell_type": "markdown",
   "id": "e3d07269",
   "metadata": {},
   "source": [
    "**8. What are logical operators in Python?**\n",
    "\n",
    "Logical operators include `and`, `or`, and `not`. They are used to combine conditional statements."
   ]
  },
  {
   "cell_type": "markdown",
   "id": "e3950190",
   "metadata": {},
   "source": [
    "**9. What is type casting in Python?**\n",
    "\n",
    "Type casting is the process of converting the value of one data type to another, such as from string to integer."
   ]
  },
  {
   "cell_type": "markdown",
   "id": "a396100e",
   "metadata": {},
   "source": [
    "**10. What is the difference between implicit and explicit type casting?**\n",
    "\n",
    "Implicit casting is automatically performed by Python (e.g., int to float), while explicit casting is done by the programmer using functions like `int()`, `float()`, `str()`."
   ]
  },
  {
   "cell_type": "markdown",
   "id": "9d2d3898",
   "metadata": {},
   "source": [
    "**11. What is the purpose of conditional statements in Python?**\n",
    "\n",
    "Conditional statements allow decision-making in code using `if`, `elif`, and `else` to execute different blocks based on conditions."
   ]
  },
  {
   "cell_type": "markdown",
   "id": "4d1fb6bd",
   "metadata": {},
   "source": [
    "**12. How does the elif statement work?**\n",
    "\n",
    "`elif` allows checking multiple conditions after an initial `if`. It executes the first true condition’s block and skips the rest."
   ]
  },
  {
   "cell_type": "markdown",
   "id": "929fb5a0",
   "metadata": {},
   "source": [
    "**13. What is the difference between for and while loops?**\n",
    "\n",
    "`for` loops are used for iterating over sequences. `while` loops execute based on a condition being true."
   ]
  },
  {
   "cell_type": "markdown",
   "id": "ce9c32f3",
   "metadata": {},
   "source": [
    "**14. Describe a scenario where a while loop is more suitable than a for loop.**\n",
    "\n",
    "When the number of iterations is not known beforehand and depends on a condition (e.g., reading input until user enters 'exit')."
   ]
  },
  {
   "cell_type": "markdown",
   "id": "6644288c",
   "metadata": {},
   "source": [
    "# Practical Questions"
   ]
  },
  {
   "cell_type": "markdown",
   "id": "fbb994ec",
   "metadata": {},
   "source": [
    "**Q: 1. Write a Python program to print \"Hello, World!\"**"
   ]
  },
  {
   "cell_type": "code",
   "execution_count": 1,
   "id": "d53b215c",
   "metadata": {},
   "outputs": [
    {
     "name": "stdout",
     "output_type": "stream",
     "text": [
      "Hello, World!\n"
     ]
    }
   ],
   "source": [
    "print(\"Hello, World!\")"
   ]
  },
  {
   "cell_type": "markdown",
   "id": "80ac8426",
   "metadata": {},
   "source": [
    "**Q: 2. Write a Python program that displays your name and age**"
   ]
  },
  {
   "cell_type": "code",
   "execution_count": 2,
   "id": "00a4d02b",
   "metadata": {},
   "outputs": [
    {
     "name": "stdout",
     "output_type": "stream",
     "text": [
      "My name is John and I am 25 years old.\n"
     ]
    }
   ],
   "source": [
    "name = \"John\"\n",
    "age = 25\n",
    "print(f\"My name is {name} and I am {age} years old.\")"
   ]
  },
  {
   "cell_type": "markdown",
   "id": "fbb78526",
   "metadata": {},
   "source": [
    "**Q: 3. Write code to print all the pre-defined keywords in Python using the keyword library**"
   ]
  },
  {
   "cell_type": "code",
   "execution_count": 3,
   "id": "6d91bf0a",
   "metadata": {},
   "outputs": [
    {
     "name": "stdout",
     "output_type": "stream",
     "text": [
      "['False', 'None', 'True', '__peg_parser__', 'and', 'as', 'assert', 'async', 'await', 'break', 'class', 'continue', 'def', 'del', 'elif', 'else', 'except', 'finally', 'for', 'from', 'global', 'if', 'import', 'in', 'is', 'lambda', 'nonlocal', 'not', 'or', 'pass', 'raise', 'return', 'try', 'while', 'with', 'yield']\n"
     ]
    }
   ],
   "source": [
    "import keyword\n",
    "print(keyword.kwlist)"
   ]
  },
  {
   "cell_type": "markdown",
   "id": "595d7e6e",
   "metadata": {},
   "source": [
    "**Q: 4. Write a program that checks if a given word is a Python keyword.**"
   ]
  },
  {
   "cell_type": "code",
   "execution_count": 4,
   "id": "7c0bf01c",
   "metadata": {},
   "outputs": [
    {
     "name": "stdout",
     "output_type": "stream",
     "text": [
      "Enter a word: from\n",
      "from is a keyword: True\n"
     ]
    }
   ],
   "source": [
    "import keyword\n",
    "word = input(\"Enter a word: \")\n",
    "print(f\"{word} is a keyword: {keyword.iskeyword(word)}\")"
   ]
  },
  {
   "cell_type": "code",
   "execution_count": 5,
   "id": "2bd9eb32",
   "metadata": {},
   "outputs": [
    {
     "name": "stdout",
     "output_type": "stream",
     "text": [
      "Enter a word: KD\n",
      "KD is a keyword: False\n"
     ]
    }
   ],
   "source": [
    "import keyword\n",
    "word = input(\"Enter a word: \")\n",
    "print(f\"{word} is a keyword: {keyword.iskeyword(word)}\")"
   ]
  },
  {
   "cell_type": "markdown",
   "id": "f6a35243",
   "metadata": {},
   "source": [
    "**Q: 5. Create a list and tuple in Python, and demonstrate how attempting to change an element works differently for each.**"
   ]
  },
  {
   "cell_type": "code",
   "execution_count": 8,
   "id": "4ba5736b",
   "metadata": {},
   "outputs": [
    {
     "name": "stdout",
     "output_type": "stream",
     "text": [
      "Modified list: [10, 2, 3]\n",
      "Tuple (unchanged): (1, 2, 3)\n"
     ]
    }
   ],
   "source": [
    "my_list = [1, 2, 3]\n",
    "my_tuple = (1, 2, 3)\n",
    "\n",
    "my_list[0] = 10\n",
    "print(\"Modified list:\", my_list)\n",
    "\n",
    "#my_tuple[0] = 10\n",
    "print(\"Tuple (unchanged):\", my_tuple)\n"
   ]
  },
  {
   "cell_type": "markdown",
   "id": "89df905b",
   "metadata": {},
   "source": [
    "**Q: 6. Write a function to demonstrate the behavior of mutable and immutable arguments.**"
   ]
  },
  {
   "cell_type": "code",
   "execution_count": 9,
   "id": "95ac8a34",
   "metadata": {},
   "outputs": [
    {
     "name": "stdout",
     "output_type": "stream",
     "text": [
      "Inside function:  [1, 2, 3, 100] 15\n",
      "Outside function: [1, 2, 3, 100] 5\n"
     ]
    }
   ],
   "source": [
    "def test_mutable_immutable(a_list, a_number):\n",
    "    a_list.append(100)\n",
    "    a_number += 10\n",
    "    print(\"Inside function: \", a_list, a_number)\n",
    "\n",
    "lst = [1, 2, 3]\n",
    "num = 5\n",
    "test_mutable_immutable(lst, num)\n",
    "print(\"Outside function:\", lst, num)"
   ]
  },
  {
   "cell_type": "markdown",
   "id": "141fa702",
   "metadata": {},
   "source": [
    "**Q: 7. Write a program that performs basic arithmetic operations on two user-input numbers.**"
   ]
  },
  {
   "cell_type": "code",
   "execution_count": 11,
   "id": "b04bf1b1",
   "metadata": {},
   "outputs": [
    {
     "name": "stdout",
     "output_type": "stream",
     "text": [
      "Enter first number: 5\n",
      "Enter second number: 2\n",
      "Addition: 7.0\n",
      "Subtraction: 3.0\n",
      "Multiplication: 10.0\n",
      "Division: 2.5\n"
     ]
    }
   ],
   "source": [
    "a = float(input(\"Enter first number: \"))\n",
    "b = float(input(\"Enter second number: \"))\n",
    "print(\"Addition:\", a + b)\n",
    "print(\"Subtraction:\", a - b)\n",
    "print(\"Multiplication:\", a * b)\n",
    "print(\"Division:\", a / b)"
   ]
  },
  {
   "cell_type": "markdown",
   "id": "858ff1f6",
   "metadata": {},
   "source": [
    "**Q: 8. Write a program to demonstrate the use of logical operators.**"
   ]
  },
  {
   "cell_type": "code",
   "execution_count": 12,
   "id": "b9f83060",
   "metadata": {},
   "outputs": [
    {
     "name": "stdout",
     "output_type": "stream",
     "text": [
      "x and y: False\n",
      "x or y: True\n",
      "not x: False\n"
     ]
    }
   ],
   "source": [
    "x = True\n",
    "y = False\n",
    "print(\"x and y:\", x and y)\n",
    "print(\"x or y:\", x or y)\n",
    "print(\"not x:\", not x)"
   ]
  },
  {
   "cell_type": "markdown",
   "id": "500840d6",
   "metadata": {},
   "source": [
    "**Q: 9. Write a Python program to convert user input from string to integer, float, and boolean types.**"
   ]
  },
  {
   "cell_type": "code",
   "execution_count": 18,
   "id": "92e9ca29",
   "metadata": {},
   "outputs": [
    {
     "name": "stdout",
     "output_type": "stream",
     "text": [
      "Enter a number: 5\n",
      "As integer: 5\n",
      "As float: 5.0\n",
      "As boolean: True\n"
     ]
    }
   ],
   "source": [
    "s = input(\"Enter a number: \")\n",
    "print(\"As integer:\", int(s))\n",
    "print(\"As float:\", float(s))\n",
    "print(\"As boolean:\", bool(s))"
   ]
  },
  {
   "cell_type": "markdown",
   "id": "c4513109",
   "metadata": {},
   "source": [
    "**Q: 10. Write code to demonstrate type casting with list elements.**"
   ]
  },
  {
   "cell_type": "code",
   "execution_count": 19,
   "id": "f4657e86",
   "metadata": {},
   "outputs": [
    {
     "name": "stdout",
     "output_type": "stream",
     "text": [
      "Original list: ['10', '20', '30', '0', '']\n",
      "As integers: [10, 20, 30, 0]\n",
      "As floats: [10.0, 20.0, 30.0, 0.0]\n",
      "As booleans: [True, True, True, True, False]\n"
     ]
    }
   ],
   "source": [
    "str_list = [\"10\", \"20\", \"30\", \"0\", \"\"]\n",
    "\n",
    "int_list = [int(x) for x in str_list if x.isdigit()]\n",
    "float_list = [float(x) for x in str_list if x.replace('.', '', 1).isdigit()]\n",
    "bool_list = [bool(x) for x in str_list]\n",
    "\n",
    "print(\"Original list:\", str_list)\n",
    "print(\"As integers:\", int_list)\n",
    "print(\"As floats:\", float_list)\n",
    "print(\"As booleans:\", bool_list)"
   ]
  },
  {
   "cell_type": "markdown",
   "id": "1fd8ce3d",
   "metadata": {},
   "source": [
    "**Q: 11. Write a program that checks if a number is positive, negative, or zero.**"
   ]
  },
  {
   "cell_type": "code",
   "execution_count": 21,
   "id": "a61a7ded",
   "metadata": {},
   "outputs": [
    {
     "name": "stdout",
     "output_type": "stream",
     "text": [
      "Enter a number: -1\n",
      "Negative\n"
     ]
    }
   ],
   "source": [
    "n = int(input(\"Enter a number: \"))\n",
    "if n > 0:\n",
    "    print(\"Positive\")\n",
    "elif n < 0:\n",
    "    print(\"Negative\")\n",
    "else:\n",
    "    print(\"Zero\")"
   ]
  },
  {
   "cell_type": "markdown",
   "id": "026e406a",
   "metadata": {},
   "source": [
    "**Q: 12. Write a for loop to print numbers from 1 to 10.**"
   ]
  },
  {
   "cell_type": "code",
   "execution_count": 22,
   "id": "1566c754",
   "metadata": {},
   "outputs": [
    {
     "name": "stdout",
     "output_type": "stream",
     "text": [
      "1\n",
      "2\n",
      "3\n",
      "4\n",
      "5\n",
      "6\n",
      "7\n",
      "8\n",
      "9\n",
      "10\n"
     ]
    }
   ],
   "source": [
    "for i in range(1, 11):\n",
    "    print(i)"
   ]
  },
  {
   "cell_type": "markdown",
   "id": "e2849d34",
   "metadata": {},
   "source": [
    "**Q: 13. Write a Python program to find the sum of all even numbers between 1 and 50.**"
   ]
  },
  {
   "cell_type": "code",
   "execution_count": 23,
   "id": "f0c67a6b",
   "metadata": {},
   "outputs": [
    {
     "name": "stdout",
     "output_type": "stream",
     "text": [
      "Sum of even numbers from 1 to 50: 650\n"
     ]
    }
   ],
   "source": [
    "total = 0\n",
    "for i in range(1, 51):\n",
    "    if i % 2 == 0:\n",
    "        total += i\n",
    "print(\"Sum of even numbers from 1 to 50:\", total)"
   ]
  },
  {
   "cell_type": "markdown",
   "id": "007e2a52",
   "metadata": {},
   "source": [
    "**Q: 14. Write a program to reverse a string using a while loop.**"
   ]
  },
  {
   "cell_type": "code",
   "execution_count": 25,
   "id": "67d680b7",
   "metadata": {},
   "outputs": [
    {
     "name": "stdout",
     "output_type": "stream",
     "text": [
      "Enter a string: Alpha\n",
      "Reversed string: ahplA\n"
     ]
    }
   ],
   "source": [
    "s = input(\"Enter a string: \")\n",
    "reversed_str = \"\"\n",
    "i = len(s) - 1\n",
    "while i >= 0:\n",
    "    reversed_str += s[i]\n",
    "    i -= 1\n",
    "print(\"Reversed string:\", reversed_str)"
   ]
  },
  {
   "cell_type": "markdown",
   "id": "969d7ae6",
   "metadata": {},
   "source": [
    "**Q: 15. Write a Python program to calculate the factorial of a number provided by the user using a while loop.**"
   ]
  },
  {
   "cell_type": "code",
   "execution_count": 29,
   "id": "1e1a2736",
   "metadata": {},
   "outputs": [
    {
     "name": "stdout",
     "output_type": "stream",
     "text": [
      "Enter a number: 3\n",
      "Factorial of 3 is 6\n"
     ]
    }
   ],
   "source": [
    "num = int(input(\"Enter a number: \"))\n",
    "factorial = 1\n",
    "i = 1\n",
    "\n",
    "while i <= num:\n",
    "    factorial *= i\n",
    "    i += 1\n",
    "\n",
    "print(f\"Factorial of {num} is {factorial}\")"
   ]
  },
  {
   "cell_type": "markdown",
   "id": "e2c0eb33",
   "metadata": {},
   "source": [
    "# --------------------Thank you-----------------"
   ]
  },
  {
   "cell_type": "code",
   "execution_count": null,
   "id": "1f252f98",
   "metadata": {},
   "outputs": [],
   "source": []
  }
 ],
 "metadata": {
  "kernelspec": {
   "display_name": "Python 3 (ipykernel)",
   "language": "python",
   "name": "python3"
  },
  "language_info": {
   "codemirror_mode": {
    "name": "ipython",
    "version": 3
   },
   "file_extension": ".py",
   "mimetype": "text/x-python",
   "name": "python",
   "nbconvert_exporter": "python",
   "pygments_lexer": "ipython3",
   "version": "3.9.13"
  }
 },
 "nbformat": 4,
 "nbformat_minor": 5
}
