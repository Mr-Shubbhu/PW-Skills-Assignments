{
 "cells": [
  {
   "cell_type": "markdown",
   "id": "bbe8192c",
   "metadata": {},
   "source": [
    "# Data Types and Structures Questions"
   ]
  },
  {
   "cell_type": "markdown",
   "id": "ecbf81bc",
   "metadata": {},
   "source": [
    "### 1. What are data structures, and why are they important?\n",
    "Data structures are ways of organizing and storing data to enable efficient access and modification. They are crucial because they provide a means to manage large amounts of data efficiently, such as databases, indexing services, and operating systems."
   ]
  },
  {
   "cell_type": "markdown",
   "id": "a1e3becb",
   "metadata": {},
   "source": [
    "### 2. Explain the difference between mutable and immutable data types with examples.\n",
    "Mutable data types can be changed after creation (e.g., lists, dictionaries, sets), while immutable data types cannot be changed (e.g., integers, strings, tuples).\n",
    "\n",
    "Example:\n",
    "```python\n",
    "x = [1, 2, 3]  # mutable\n",
    "x[0] = 100\n",
    "\n",
    "s = 'hello'  # immutable\n",
    "# s[0] = 'H'  # This will cause an error\n",
    "```"
   ]
  },
  {
   "cell_type": "markdown",
   "id": "0bfedd67",
   "metadata": {},
   "source": [
    "### 3. What are the main differences between lists and tuples in Python?\n",
    "- Lists are mutable, while tuples are immutable.\n",
    "- Lists use square brackets `[]`, tuples use parentheses `()`.\n",
    "- Tuples are generally faster and used for fixed data."
   ]
  },
  {
   "cell_type": "markdown",
   "id": "2cf13a10",
   "metadata": {},
   "source": [
    "### 4. Describe how dictionaries store data.\n",
    "Dictionaries store data as key-value pairs. Internally, they use a hash table to map keys to values, which allows for fast access."
   ]
  },
  {
   "cell_type": "markdown",
   "id": "b5d8a5c9",
   "metadata": {},
   "source": [
    "### 5. Why might you use a set instead of a list in Python?\n",
    "Sets are unordered collections of unique elements. They are useful when you want to eliminate duplicates and perform set operations like union, intersection, etc."
   ]
  },
  {
   "cell_type": "markdown",
   "id": "0151ed07",
   "metadata": {},
   "source": [
    "### 6. What is a string in Python, and how is it different from a list?\n",
    "A string is an immutable sequence of characters. A list is a mutable sequence that can contain elements of any type. Unlike lists, strings cannot be modified."
   ]
  },
  {
   "cell_type": "markdown",
   "id": "e81e62a6",
   "metadata": {},
   "source": [
    "### 7. How do tuples ensure data integrity in Python?\n",
    "Since tuples are immutable, they prevent accidental modification of data, making them suitable for representing constant data or keys in dictionaries."
   ]
  },
  {
   "cell_type": "markdown",
   "id": "e1a3d8be",
   "metadata": {},
   "source": [
    "### 8. What is a hash table, and how does it relate to dictionaries in Python?\n",
    "A hash table is a data structure that maps keys to values using a hash function. Python dictionaries are implemented using hash tables for efficient key-value access."
   ]
  },
  {
   "cell_type": "markdown",
   "id": "7e3f96ac",
   "metadata": {},
   "source": [
    "### 9. Can lists contain different data types in Python?\n",
    "Yes, Python lists can contain elements of different data types, including integers, strings, and even other lists or objects."
   ]
  },
  {
   "cell_type": "markdown",
   "id": "3bc375f9",
   "metadata": {},
   "source": [
    "### 10. Explain why strings are immutable in Python.\n",
    "Strings are immutable to enhance performance and security, especially when used as keys in dictionaries or during string interning."
   ]
  },
  {
   "cell_type": "markdown",
   "id": "0ed9829f",
   "metadata": {},
   "source": [
    "### 11. What advantages do dictionaries offer over lists for certain tasks?\n",
    "Dictionaries provide faster lookups for key-based access, making them more suitable than lists for tasks like searching and mapping data."
   ]
  },
  {
   "cell_type": "markdown",
   "id": "cb1adeb6",
   "metadata": {},
   "source": [
    "### 12. Describe a scenario where using a tuple would be preferable over a list.\n",
    "When the data is constant and should not be changed, such as storing coordinates (x, y), using a tuple ensures data integrity."
   ]
  },
  {
   "cell_type": "markdown",
   "id": "a0a78ccf",
   "metadata": {},
   "source": [
    "### 13. How do sets handle duplicate values in Python?\n",
    "Sets automatically remove duplicate values. Adding a duplicate element has no effect."
   ]
  },
  {
   "cell_type": "markdown",
   "id": "9f6e1775",
   "metadata": {},
   "source": [
    "### 14. How does the “in” keyword work differently for lists and dictionaries?\n",
    "`in` checks for value presence in lists, but checks for key presence in dictionaries."
   ]
  },
  {
   "cell_type": "markdown",
   "id": "7aaaafdf",
   "metadata": {},
   "source": [
    "### 15. Can you modify the elements of a tuple? Explain why or why not.\n",
    "No, tuples are immutable, so once created, their elements cannot be changed."
   ]
  },
  {
   "cell_type": "markdown",
   "id": "b3cc900e",
   "metadata": {},
   "source": [
    "### 16. What is a nested dictionary, and give an example of its use case.\n",
    "A nested dictionary is a dictionary within another dictionary. It's useful for representing hierarchical data.\n",
    "\n",
    "Example:\n",
    "```python\n",
    "student = {'name': 'John', 'grades': {'math': 90, 'science': 85}}\n",
    "```"
   ]
  },
  {
   "cell_type": "markdown",
   "id": "1a836ad5",
   "metadata": {},
   "source": [
    "### 17. Describe the time complexity of accessing elements in a dictionary.\n",
    "Accessing elements in a dictionary has average-case time complexity of O(1) due to hash table implementation."
   ]
  },
  {
   "cell_type": "markdown",
   "id": "e9f8eab9",
   "metadata": {},
   "source": [
    "### 18. In what situations are lists preferred over dictionaries?\n",
    "When order matters or when data is accessed by index rather than key."
   ]
  },
  {
   "cell_type": "markdown",
   "id": "109cff58",
   "metadata": {},
   "source": [
    "### 19. Why are dictionaries considered unordered, and how does that affect data retrieval?\n",
    "Dictionaries were unordered before Python 3.7. Now they preserve insertion order but logically are still key-based, meaning their access pattern doesn't depend on sequence."
   ]
  },
  {
   "cell_type": "markdown",
   "id": "9691fdda",
   "metadata": {},
   "source": [
    "### 20. Explain the difference between a list and a dictionary in terms of data retrieval.\n",
    "Lists retrieve data by index (position), whereas dictionaries retrieve data by key (label)."
   ]
  },
  {
   "cell_type": "markdown",
   "id": "767ef61b",
   "metadata": {},
   "source": [
    "# Practical Questions"
   ]
  },
  {
   "cell_type": "markdown",
   "id": "a0bde25b",
   "metadata": {},
   "source": [
    "### 1. Write a code to create a string with your name and print it."
   ]
  },
  {
   "cell_type": "code",
   "execution_count": 2,
   "id": "2439cb83",
   "metadata": {},
   "outputs": [
    {
     "name": "stdout",
     "output_type": "stream",
     "text": [
      "Kuldeep\n"
     ]
    }
   ],
   "source": [
    "name = 'Kuldeep'\n",
    "print(name)"
   ]
  },
  {
   "cell_type": "markdown",
   "id": "612a2aa6",
   "metadata": {},
   "source": [
    "### 2. Write a code to find the length of the string \"Hello World\"."
   ]
  },
  {
   "cell_type": "code",
   "execution_count": 3,
   "id": "324a0405",
   "metadata": {},
   "outputs": [
    {
     "name": "stdout",
     "output_type": "stream",
     "text": [
      "11\n"
     ]
    }
   ],
   "source": [
    "s = 'Hello World'\n",
    "print(len(s))"
   ]
  },
  {
   "cell_type": "markdown",
   "id": "3d633eb2",
   "metadata": {},
   "source": [
    "### 3. Write a code to slice the first 3 characters from the string \"Python Programming\"."
   ]
  },
  {
   "cell_type": "code",
   "execution_count": 4,
   "id": "1200b504",
   "metadata": {},
   "outputs": [
    {
     "name": "stdout",
     "output_type": "stream",
     "text": [
      "Pyt\n"
     ]
    }
   ],
   "source": [
    "s = 'Python Programming'\n",
    "print(s[:3])"
   ]
  },
  {
   "cell_type": "markdown",
   "id": "ff1de0ca",
   "metadata": {},
   "source": [
    "### 4. Write a code to convert the string \"hello\" to uppercase."
   ]
  },
  {
   "cell_type": "code",
   "execution_count": 5,
   "id": "8a2a2bb5",
   "metadata": {},
   "outputs": [
    {
     "name": "stdout",
     "output_type": "stream",
     "text": [
      "HELLO\n"
     ]
    }
   ],
   "source": [
    "s = 'hello'\n",
    "print(s.upper())"
   ]
  },
  {
   "cell_type": "markdown",
   "id": "0a8a8be3",
   "metadata": {},
   "source": [
    "### 5. Write a code to replace the word \"apple\" with \"orange\" in the string \"I like apple\"."
   ]
  },
  {
   "cell_type": "code",
   "execution_count": 6,
   "id": "27b43037",
   "metadata": {},
   "outputs": [
    {
     "name": "stdout",
     "output_type": "stream",
     "text": [
      "I like orange\n"
     ]
    }
   ],
   "source": [
    "s = 'I like apple'\n",
    "print(s.replace('apple', 'orange'))"
   ]
  },
  {
   "cell_type": "markdown",
   "id": "4d207a3f",
   "metadata": {},
   "source": [
    "### 6. Write a code to create a list with numbers 1 to 5 and print it."
   ]
  },
  {
   "cell_type": "code",
   "execution_count": 7,
   "id": "3bea3e7b",
   "metadata": {},
   "outputs": [
    {
     "name": "stdout",
     "output_type": "stream",
     "text": [
      "[1, 2, 3, 4, 5]\n"
     ]
    }
   ],
   "source": [
    "lst = [1, 2, 3, 4, 5]\n",
    "print(lst)"
   ]
  },
  {
   "cell_type": "markdown",
   "id": "f757bf7f",
   "metadata": {},
   "source": [
    "### 7. Write a code to append the number 10 to the list [1, 2, 3, 4]."
   ]
  },
  {
   "cell_type": "code",
   "execution_count": 8,
   "id": "bb7a8776",
   "metadata": {},
   "outputs": [
    {
     "name": "stdout",
     "output_type": "stream",
     "text": [
      "[1, 2, 3, 4, 10]\n"
     ]
    }
   ],
   "source": [
    "lst = [1, 2, 3, 4]\n",
    "lst.append(10)\n",
    "print(lst)"
   ]
  },
  {
   "cell_type": "markdown",
   "id": "212b35bf",
   "metadata": {},
   "source": [
    "### 8. Write a code to remove the number 3 from the list [1, 2, 3, 4, 5]."
   ]
  },
  {
   "cell_type": "code",
   "execution_count": 9,
   "id": "7c4ef504",
   "metadata": {},
   "outputs": [
    {
     "name": "stdout",
     "output_type": "stream",
     "text": [
      "[1, 2, 4, 5]\n"
     ]
    }
   ],
   "source": [
    "lst = [1, 2, 3, 4, 5]\n",
    "lst.remove(3)\n",
    "print(lst)"
   ]
  },
  {
   "cell_type": "markdown",
   "id": "69674ce6",
   "metadata": {},
   "source": [
    "### 9. Write a code to access the second element in the list ['a', 'b', 'c', 'd']."
   ]
  },
  {
   "cell_type": "code",
   "execution_count": 10,
   "id": "36d1ca8d",
   "metadata": {},
   "outputs": [
    {
     "name": "stdout",
     "output_type": "stream",
     "text": [
      "b\n"
     ]
    }
   ],
   "source": [
    "lst = ['a', 'b', 'c', 'd']\n",
    "print(lst[1])"
   ]
  },
  {
   "cell_type": "markdown",
   "id": "fbe8b780",
   "metadata": {},
   "source": [
    "### 10. Write a code to reverse the list [10, 20, 30, 40, 50]."
   ]
  },
  {
   "cell_type": "code",
   "execution_count": 11,
   "id": "d768e74f",
   "metadata": {},
   "outputs": [
    {
     "name": "stdout",
     "output_type": "stream",
     "text": [
      "[50, 40, 30, 20, 10]\n"
     ]
    }
   ],
   "source": [
    "lst = [10, 20, 30, 40, 50]\n",
    "lst.reverse()\n",
    "print(lst)"
   ]
  },
  {
   "cell_type": "markdown",
   "id": "24107739",
   "metadata": {},
   "source": [
    "### 11. Write a code to create a tuple with the elements 100, 200, 300 and print it."
   ]
  },
  {
   "cell_type": "code",
   "execution_count": 12,
   "id": "4a6e76c8",
   "metadata": {},
   "outputs": [
    {
     "name": "stdout",
     "output_type": "stream",
     "text": [
      "(100, 200, 300)\n"
     ]
    }
   ],
   "source": [
    "t = (100, 200, 300)\n",
    "print(t)"
   ]
  },
  {
   "cell_type": "markdown",
   "id": "281afecb",
   "metadata": {},
   "source": [
    "### 12. Write a code to access the second-to-last element of the tuple ('red', 'green', 'blue', 'yellow')."
   ]
  },
  {
   "cell_type": "code",
   "execution_count": 13,
   "id": "7066d652",
   "metadata": {},
   "outputs": [
    {
     "name": "stdout",
     "output_type": "stream",
     "text": [
      "blue\n"
     ]
    }
   ],
   "source": [
    "t = ('red', 'green', 'blue', 'yellow')\n",
    "print(t[-2])"
   ]
  },
  {
   "cell_type": "markdown",
   "id": "d4887547",
   "metadata": {},
   "source": [
    "### 13. Write a code to find the minimum number in the tuple (10, 20, 5, 15)."
   ]
  },
  {
   "cell_type": "code",
   "execution_count": 14,
   "id": "c3030325",
   "metadata": {},
   "outputs": [
    {
     "name": "stdout",
     "output_type": "stream",
     "text": [
      "5\n"
     ]
    }
   ],
   "source": [
    "t = (10, 20, 5, 15)\n",
    "print(min(t))"
   ]
  },
  {
   "cell_type": "markdown",
   "id": "5a1eb7b6",
   "metadata": {},
   "source": [
    "### 14. Write a code to find the index of the element \"cat\" in the tuple ('dog', 'cat', 'rabbit')."
   ]
  },
  {
   "cell_type": "code",
   "execution_count": 15,
   "id": "afdc9abf",
   "metadata": {},
   "outputs": [
    {
     "name": "stdout",
     "output_type": "stream",
     "text": [
      "1\n"
     ]
    }
   ],
   "source": [
    "t = ('dog', 'cat', 'rabbit')\n",
    "print(t.index('cat'))"
   ]
  },
  {
   "cell_type": "markdown",
   "id": "2558c30d",
   "metadata": {},
   "source": [
    "### 15. Write a code to create a tuple containing three different fruits and check if \"kiwi\" is in it."
   ]
  },
  {
   "cell_type": "code",
   "execution_count": 16,
   "id": "32e7b693",
   "metadata": {},
   "outputs": [
    {
     "name": "stdout",
     "output_type": "stream",
     "text": [
      "False\n"
     ]
    }
   ],
   "source": [
    "t = ('apple', 'banana', 'mango')\n",
    "print('kiwi' in t)"
   ]
  },
  {
   "cell_type": "markdown",
   "id": "05706b41",
   "metadata": {},
   "source": [
    "### 16. Write a code to create a set with the elements 'a', 'b', 'c' and print it."
   ]
  },
  {
   "cell_type": "code",
   "execution_count": 17,
   "id": "abeac6ab",
   "metadata": {},
   "outputs": [
    {
     "name": "stdout",
     "output_type": "stream",
     "text": [
      "{'c', 'a', 'b'}\n"
     ]
    }
   ],
   "source": [
    "s = {'a', 'b', 'c'}\n",
    "print(s)"
   ]
  },
  {
   "cell_type": "markdown",
   "id": "08e48e32",
   "metadata": {},
   "source": [
    "### 17. Write a code to clear all elements from the set {1, 2, 3, 4, 5}."
   ]
  },
  {
   "cell_type": "code",
   "execution_count": 18,
   "id": "e6c03708",
   "metadata": {},
   "outputs": [
    {
     "name": "stdout",
     "output_type": "stream",
     "text": [
      "set()\n"
     ]
    }
   ],
   "source": [
    "s = {1, 2, 3, 4, 5}\n",
    "s.clear()\n",
    "print(s)"
   ]
  },
  {
   "cell_type": "markdown",
   "id": "32e22b6c",
   "metadata": {},
   "source": [
    "### 18. Write a code to remove the element 4 from the set {1, 2, 3, 4}."
   ]
  },
  {
   "cell_type": "code",
   "execution_count": 19,
   "id": "c80840f9",
   "metadata": {},
   "outputs": [
    {
     "name": "stdout",
     "output_type": "stream",
     "text": [
      "{1, 2, 3}\n"
     ]
    }
   ],
   "source": [
    "s = {1, 2, 3, 4}\n",
    "s.remove(4)\n",
    "print(s)"
   ]
  },
  {
   "cell_type": "markdown",
   "id": "3455e230",
   "metadata": {},
   "source": [
    "### 19. Write a code to find the union of two sets {1, 2, 3} and {3, 4, 5}."
   ]
  },
  {
   "cell_type": "code",
   "execution_count": 20,
   "id": "c46a4d5b",
   "metadata": {},
   "outputs": [
    {
     "name": "stdout",
     "output_type": "stream",
     "text": [
      "{1, 2, 3, 4, 5}\n"
     ]
    }
   ],
   "source": [
    "a = {1, 2, 3}\n",
    "b = {3, 4, 5}\n",
    "print(a.union(b))"
   ]
  },
  {
   "cell_type": "markdown",
   "id": "a7da1b55",
   "metadata": {},
   "source": [
    "### 20. Write a code to find the intersection of two sets {1, 2, 3} and {2, 3, 4}."
   ]
  },
  {
   "cell_type": "code",
   "execution_count": 21,
   "id": "47f0929a",
   "metadata": {},
   "outputs": [
    {
     "name": "stdout",
     "output_type": "stream",
     "text": [
      "{2, 3}\n"
     ]
    }
   ],
   "source": [
    "a = {1, 2, 3}\n",
    "b = {2, 3, 4}\n",
    "print(a.intersection(b))"
   ]
  },
  {
   "cell_type": "markdown",
   "id": "d2235b73",
   "metadata": {},
   "source": [
    "### 21. Write a code to create a dictionary with the keys \"name\", \"age\", and \"city\", and print it."
   ]
  },
  {
   "cell_type": "code",
   "execution_count": 22,
   "id": "30dae95b",
   "metadata": {},
   "outputs": [
    {
     "name": "stdout",
     "output_type": "stream",
     "text": [
      "{'name': 'Kuldeep', 'age': 25, 'city': 'India'}\n"
     ]
    }
   ],
   "source": [
    "d = {'name': 'Kuldeep', 'age': 25, 'city': 'India'}\n",
    "print(d)"
   ]
  },
  {
   "cell_type": "markdown",
   "id": "83af9369",
   "metadata": {},
   "source": [
    "### 22. Write a code to add a new key-value pair \"country\": \"USA\" to the dictionary {'name': 'John', 'age': 25}."
   ]
  },
  {
   "cell_type": "code",
   "execution_count": 23,
   "id": "e2fb0ca2",
   "metadata": {},
   "outputs": [
    {
     "name": "stdout",
     "output_type": "stream",
     "text": [
      "{'name': 'John', 'age': 25, 'country': 'USA'}\n"
     ]
    }
   ],
   "source": [
    "d = {'name': 'John', 'age': 25}\n",
    "d['country'] = 'USA'\n",
    "print(d)"
   ]
  },
  {
   "cell_type": "markdown",
   "id": "d78c04fb",
   "metadata": {},
   "source": [
    "### 23. Write a code to access the value associated with the key \"name\" in the dictionary {'name': 'Alice', 'age': 30}."
   ]
  },
  {
   "cell_type": "code",
   "execution_count": 24,
   "id": "febbaaa0",
   "metadata": {},
   "outputs": [
    {
     "name": "stdout",
     "output_type": "stream",
     "text": [
      "Alice\n"
     ]
    }
   ],
   "source": [
    "d = {'name': 'Alice', 'age': 30}\n",
    "print(d['name'])"
   ]
  },
  {
   "cell_type": "markdown",
   "id": "39dbcab0",
   "metadata": {},
   "source": [
    "### 24. Write a code to remove the key \"age\" from the dictionary {'name': 'Bob', 'age': 22, 'city': 'New York'}."
   ]
  },
  {
   "cell_type": "code",
   "execution_count": 25,
   "id": "2b72938a",
   "metadata": {},
   "outputs": [
    {
     "name": "stdout",
     "output_type": "stream",
     "text": [
      "{'name': 'Bob', 'city': 'New York'}\n"
     ]
    }
   ],
   "source": [
    "d = {'name': 'Bob', 'age': 22, 'city': 'New York'}\n",
    "d.pop('age')\n",
    "print(d)"
   ]
  },
  {
   "cell_type": "markdown",
   "id": "de199dd1",
   "metadata": {},
   "source": [
    "### 25. Write a code to check if the key \"city\" exists in the dictionary {'name': 'Alice', 'city': 'Paris'}"
   ]
  },
  {
   "cell_type": "code",
   "execution_count": 26,
   "id": "dabb78c1",
   "metadata": {},
   "outputs": [
    {
     "name": "stdout",
     "output_type": "stream",
     "text": [
      "True\n"
     ]
    }
   ],
   "source": [
    "d = {'name': 'Alice', 'city': 'Paris'}\n",
    "print('city' in d)"
   ]
  },
  {
   "cell_type": "markdown",
   "id": "49fec7da",
   "metadata": {},
   "source": [
    "### 26. Write a code to create a list, a tuple, and a dictionary, and print them all."
   ]
  },
  {
   "cell_type": "code",
   "execution_count": 28,
   "id": "18f3b1fd",
   "metadata": {},
   "outputs": [
    {
     "name": "stdout",
     "output_type": "stream",
     "text": [
      "[1, 2, 3] (1, 2, 3) {'one': 1, 'two': 2}\n"
     ]
    }
   ],
   "source": [
    "lst = [1, 2, 3]\n",
    "tup = (1, 2, 3)\n",
    "d = {'one': 1, 'two': 2}\n",
    "print(lst, tup, d)"
   ]
  },
  {
   "cell_type": "markdown",
   "id": "4c1ddd8d",
   "metadata": {},
   "source": [
    "### 27. Write a code to create a list of 5 random numbers between 1 and 100, sort it in ascending order, and print the result."
   ]
  },
  {
   "cell_type": "code",
   "execution_count": 27,
   "id": "b74fc040",
   "metadata": {},
   "outputs": [
    {
     "name": "stdout",
     "output_type": "stream",
     "text": [
      "[31, 36, 45, 71, 76]\n"
     ]
    }
   ],
   "source": [
    "import random\n",
    "lst = random.sample(range(1, 101), 5)\n",
    "lst.sort()\n",
    "print(lst)"
   ]
  },
  {
   "cell_type": "markdown",
   "id": "a3ee5378",
   "metadata": {},
   "source": [
    "### 28. Write a code to create a list with strings and print the element at the third index."
   ]
  },
  {
   "cell_type": "code",
   "execution_count": 29,
   "id": "807266b5",
   "metadata": {},
   "outputs": [
    {
     "name": "stdout",
     "output_type": "stream",
     "text": [
      "date\n"
     ]
    }
   ],
   "source": [
    "lst = ['apple', 'banana', 'cherry', 'date', 'fig']\n",
    "print(lst[3])"
   ]
  },
  {
   "cell_type": "markdown",
   "id": "b2a1fa12",
   "metadata": {},
   "source": [
    "### 29. Write a code to combine two dictionaries into one and print the result."
   ]
  },
  {
   "cell_type": "code",
   "execution_count": 30,
   "id": "b9adc5dd",
   "metadata": {},
   "outputs": [
    {
     "name": "stdout",
     "output_type": "stream",
     "text": [
      "{'a': 1, 'b': 2, 'c': 3, 'd': 4}\n"
     ]
    }
   ],
   "source": [
    "d1 = {'a': 1, 'b': 2}\n",
    "d2 = {'c': 3, 'd': 4}\n",
    "d1.update(d2)\n",
    "print(d1)"
   ]
  },
  {
   "cell_type": "markdown",
   "id": "dab515ad",
   "metadata": {},
   "source": [
    "### 30. Write a code to convert a list of strings into a set."
   ]
  },
  {
   "cell_type": "code",
   "execution_count": 31,
   "id": "a93711db",
   "metadata": {},
   "outputs": [
    {
     "name": "stdout",
     "output_type": "stream",
     "text": [
      "{'cherry', 'apple', 'banana'}\n"
     ]
    }
   ],
   "source": [
    "lst = ['apple', 'banana', 'cherry', 'apple']\n",
    "print(set(lst))"
   ]
  },
  {
   "cell_type": "markdown",
   "id": "0a9713cf",
   "metadata": {},
   "source": [
    "# ------------------- Thank You --------------------"
   ]
  },
  {
   "cell_type": "code",
   "execution_count": null,
   "id": "716ace6b",
   "metadata": {},
   "outputs": [],
   "source": []
  }
 ],
 "metadata": {
  "kernelspec": {
   "display_name": "Python 3 (ipykernel)",
   "language": "python",
   "name": "python3"
  },
  "language_info": {
   "codemirror_mode": {
    "name": "ipython",
    "version": 3
   },
   "file_extension": ".py",
   "mimetype": "text/x-python",
   "name": "python",
   "nbconvert_exporter": "python",
   "pygments_lexer": "ipython3",
   "version": "3.9.13"
  }
 },
 "nbformat": 4,
 "nbformat_minor": 5
}
