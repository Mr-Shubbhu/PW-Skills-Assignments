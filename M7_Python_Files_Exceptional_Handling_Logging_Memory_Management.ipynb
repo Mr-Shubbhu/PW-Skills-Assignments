{
 "cells": [
  {
   "cell_type": "markdown",
   "id": "ae251b4e",
   "metadata": {},
   "source": [
    "# Theory Questions"
   ]
  },
  {
   "cell_type": "markdown",
   "id": "71217541",
   "metadata": {},
   "source": [
    "**1. What is the difference between interpreted and compiled languages**"
   ]
  },
  {
   "cell_type": "markdown",
   "id": "7e44297b",
   "metadata": {},
   "source": [
    "Interpreted languages execute code line by line, allowing for immediate feedback and easier debugging. Compiled languages convert the entire code into machine code before execution, resulting in faster runtime but requiring a separate compilation step."
   ]
  },
  {
   "cell_type": "markdown",
   "id": "e2ac8e4b",
   "metadata": {},
   "source": [
    "**2. What is exception handling in Python**"
   ]
  },
  {
   "cell_type": "markdown",
   "id": "5da5b7a8",
   "metadata": {},
   "source": [
    "Exception handling in Python is a mechanism to gracefully handle runtime errors using try, except, else, and finally blocks."
   ]
  },
  {
   "cell_type": "markdown",
   "id": "b375e630",
   "metadata": {},
   "source": [
    "**3. What is the purpose of the finally block in exception handling**"
   ]
  },
  {
   "cell_type": "markdown",
   "id": "e4aabbb1",
   "metadata": {},
   "source": [
    "The finally block is used to execute code regardless of whether an exception occurred or not. It's typically used for cleanup activities like closing files or releasing resources."
   ]
  },
  {
   "cell_type": "markdown",
   "id": "2612295c",
   "metadata": {},
   "source": [
    "**4. What is logging in Python**"
   ]
  },
  {
   "cell_type": "markdown",
   "id": "0ffb71b9",
   "metadata": {},
   "source": [
    "Logging in Python is used to track events that happen when software runs. It helps in debugging, monitoring, and auditing applications."
   ]
  },
  {
   "cell_type": "markdown",
   "id": "64bbfce6",
   "metadata": {},
   "source": [
    "**5. What is the significance of the __del__ method in Python**"
   ]
  },
  {
   "cell_type": "markdown",
   "id": "ba9a671d",
   "metadata": {},
   "source": [
    "The __del__ method is a destructor in Python that is called when an object is about to be destroyed. It allows cleanup of resources."
   ]
  },
  {
   "cell_type": "markdown",
   "id": "74bfb09f",
   "metadata": {},
   "source": [
    "**6. What is the difference between import and from ... import in Python**"
   ]
  },
  {
   "cell_type": "markdown",
   "id": "6885a32b",
   "metadata": {},
   "source": [
    "import imports the whole module, while from ... import imports specific attributes or functions from the module."
   ]
  },
  {
   "cell_type": "markdown",
   "id": "7a833f83",
   "metadata": {},
   "source": [
    "**7. How can you handle multiple exceptions in Python**"
   ]
  },
  {
   "cell_type": "markdown",
   "id": "624696b1",
   "metadata": {},
   "source": [
    "Multiple exceptions can be handled using multiple except blocks or a single except block with a tuple of exceptions."
   ]
  },
  {
   "cell_type": "markdown",
   "id": "1d6446fd",
   "metadata": {},
   "source": [
    "**8. What is the purpose of the with statement when handling files in Python**"
   ]
  },
  {
   "cell_type": "markdown",
   "id": "6dd575b3",
   "metadata": {},
   "source": [
    "The with statement ensures proper acquisition and release of resources, like automatically closing a file after its suite finishes."
   ]
  },
  {
   "cell_type": "markdown",
   "id": "c64f6195",
   "metadata": {},
   "source": [
    "**9. What is the difference between multithreading and multiprocessing**"
   ]
  },
  {
   "cell_type": "markdown",
   "id": "22a4d845",
   "metadata": {},
   "source": [
    "Multithreading allows concurrent execution of threads in a single process, while multiprocessing runs tasks in separate processes, each with its own memory space."
   ]
  },
  {
   "cell_type": "markdown",
   "id": "123a6723",
   "metadata": {},
   "source": [
    "**10. What are the advantages of using logging in a program**"
   ]
  },
  {
   "cell_type": "markdown",
   "id": "2c2a5af1",
   "metadata": {},
   "source": [
    "Logging provides insights into program execution, aids in debugging, and creates a history of events that occurred."
   ]
  },
  {
   "cell_type": "markdown",
   "id": "ce732428",
   "metadata": {},
   "source": [
    "**11. What is memory management in Python**"
   ]
  },
  {
   "cell_type": "markdown",
   "id": "d637eb33",
   "metadata": {},
   "source": [
    "Memory management in Python involves allocation and deallocation of memory to ensure efficient memory use, primarily handled by the Python memory manager and garbage collector."
   ]
  },
  {
   "cell_type": "markdown",
   "id": "8c66bc32",
   "metadata": {},
   "source": [
    "**12. What are the basic steps involved in exception handling in Python**"
   ]
  },
  {
   "cell_type": "markdown",
   "id": "82993818",
   "metadata": {},
   "source": [
    "Basic steps include: try block to monitor code, except block to handle exceptions, else block for code when no exception occurs, and finally block for cleanup."
   ]
  },
  {
   "cell_type": "markdown",
   "id": "b434f419",
   "metadata": {},
   "source": [
    "**13. Why is memory management important in Python**"
   ]
  },
  {
   "cell_type": "markdown",
   "id": "e3e211e3",
   "metadata": {},
   "source": [
    "Efficient memory management prevents memory leaks, optimizes performance, and ensures stable execution."
   ]
  },
  {
   "cell_type": "markdown",
   "id": "7997d760",
   "metadata": {},
   "source": [
    "**14. What is the role of try and except in exception handling**"
   ]
  },
  {
   "cell_type": "markdown",
   "id": "99bcc532",
   "metadata": {},
   "source": [
    "try is used to wrap code that may cause an error, while except handles the error gracefully if it occurs."
   ]
  },
  {
   "cell_type": "markdown",
   "id": "a7c72ac4",
   "metadata": {},
   "source": [
    "**15. How does Python's garbage collection system work**"
   ]
  },
  {
   "cell_type": "markdown",
   "id": "f49b4808",
   "metadata": {},
   "source": [
    "Python’s garbage collector reclaims memory by removing objects that are no longer in use, using reference counting and cyclic garbage collection."
   ]
  },
  {
   "cell_type": "markdown",
   "id": "7bfa0fb2",
   "metadata": {},
   "source": [
    "**16. What is the purpose of the else block in exception handling**"
   ]
  },
  {
   "cell_type": "markdown",
   "id": "7909f1c0",
   "metadata": {},
   "source": [
    "The else block executes if no exceptions are raised in the try block, providing a clean path for normal operations."
   ]
  },
  {
   "cell_type": "markdown",
   "id": "5105f8f1",
   "metadata": {},
   "source": [
    "**17. What are the common logging levels in Python**"
   ]
  },
  {
   "cell_type": "markdown",
   "id": "1413134b",
   "metadata": {},
   "source": [
    "Common logging levels are DEBUG, INFO, WARNING, ERROR, and CRITICAL."
   ]
  },
  {
   "cell_type": "markdown",
   "id": "06a25f36",
   "metadata": {},
   "source": [
    "**18. What is the difference between os.fork() and multiprocessing in Python**"
   ]
  },
  {
   "cell_type": "markdown",
   "id": "ad33e96a",
   "metadata": {},
   "source": [
    "os.fork() is a Unix-specific call that duplicates a process, while multiprocessing is a cross-platform module that creates new Python processes."
   ]
  },
  {
   "cell_type": "markdown",
   "id": "44902f11",
   "metadata": {},
   "source": [
    "**19. What is the importance of closing a file in Python**"
   ]
  },
  {
   "cell_type": "markdown",
   "id": "ec82097e",
   "metadata": {},
   "source": [
    "Closing a file is important to free up system resources and ensure all data is written properly."
   ]
  },
  {
   "cell_type": "markdown",
   "id": "7b08f99f",
   "metadata": {},
   "source": [
    "**20. What is the difference between file.read() and file.readline() in Python**"
   ]
  },
  {
   "cell_type": "markdown",
   "id": "d6dca551",
   "metadata": {},
   "source": [
    "file.read() reads the entire content of the file as a single string, while file.readline() reads one line at a time."
   ]
  },
  {
   "cell_type": "markdown",
   "id": "58f365bb",
   "metadata": {},
   "source": [
    "**21. What is the logging module in Python used for**"
   ]
  },
  {
   "cell_type": "markdown",
   "id": "14e1dcef",
   "metadata": {},
   "source": [
    "The logging module is used to report status, error, and informational messages to a file or console."
   ]
  },
  {
   "cell_type": "markdown",
   "id": "e128fafb",
   "metadata": {},
   "source": [
    "**22. What is the os module in Python used for in file handling**"
   ]
  },
  {
   "cell_type": "markdown",
   "id": "726b0b92",
   "metadata": {},
   "source": [
    "The os module provides a way to interact with the operating system, including file and directory handling."
   ]
  },
  {
   "cell_type": "markdown",
   "id": "d8df6059",
   "metadata": {},
   "source": [
    "**23. What are the challenges associated with memory management in Python**"
   ]
  },
  {
   "cell_type": "markdown",
   "id": "6b44d829",
   "metadata": {},
   "source": [
    "Challenges include memory leaks, fragmentation, and ensuring objects are properly garbage collected."
   ]
  },
  {
   "cell_type": "markdown",
   "id": "9839bc06",
   "metadata": {},
   "source": [
    "**24. How do you raise an exception manually in Python**"
   ]
  },
  {
   "cell_type": "markdown",
   "id": "bb1f1dd3",
   "metadata": {},
   "source": [
    "You can raise an exception manually using the raise keyword, e.g., raise ValueError('Invalid input')"
   ]
  },
  {
   "cell_type": "markdown",
   "id": "d57c9336",
   "metadata": {},
   "source": [
    "**25. Why is it important to use multithreading in certain applications?**"
   ]
  },
  {
   "cell_type": "markdown",
   "id": "f77680e3",
   "metadata": {},
   "source": [
    "Multithreading is useful for I/O-bound applications to perform tasks concurrently and improve efficiency."
   ]
  },
  {
   "cell_type": "markdown",
   "id": "7c37df43",
   "metadata": {},
   "source": [
    "# Practical Questions"
   ]
  },
  {
   "cell_type": "markdown",
   "id": "b18304cc",
   "metadata": {},
   "source": [
    "**Q1: 1. How can you open a file for writing in Python and write a string to it**"
   ]
  },
  {
   "cell_type": "code",
   "execution_count": 1,
   "id": "d9ca8c03",
   "metadata": {},
   "outputs": [],
   "source": [
    "with open(\"output.txt\", \"w\") as f:\n",
    "    f.write(\"Hello, world!\")"
   ]
  },
  {
   "cell_type": "markdown",
   "id": "bb250fce",
   "metadata": {},
   "source": [
    "**Q2: 2. Write a Python program to read the contents of a file and print each line**"
   ]
  },
  {
   "cell_type": "code",
   "execution_count": 2,
   "id": "176f67eb",
   "metadata": {},
   "outputs": [
    {
     "name": "stdout",
     "output_type": "stream",
     "text": [
      "Line 1\n",
      "Line 2\n",
      "Line 3\n"
     ]
    }
   ],
   "source": [
    "with open(\"input.txt\", \"r\") as f:\n",
    "    for line in f:\n",
    "        print(line.strip())"
   ]
  },
  {
   "cell_type": "markdown",
   "id": "9bddcb17",
   "metadata": {},
   "source": [
    "**Q3: 3. How would you handle a case where the file doesn't exist while trying to open it for reading**"
   ]
  },
  {
   "cell_type": "code",
   "execution_count": 3,
   "id": "cc1b964b",
   "metadata": {},
   "outputs": [
    {
     "name": "stdout",
     "output_type": "stream",
     "text": [
      "File not found.\n"
     ]
    }
   ],
   "source": [
    "try:\n",
    "    with open(\"missing.txt\", \"r\") as f:\n",
    "        print(f.read())\n",
    "except FileNotFoundError:\n",
    "    print(\"File not found.\")"
   ]
  },
  {
   "cell_type": "markdown",
   "id": "cbac032c",
   "metadata": {},
   "source": [
    "**Q4: 4. Write a Python script that reads from one file and writes its content to another file**"
   ]
  },
  {
   "cell_type": "code",
   "execution_count": 4,
   "id": "01c38b31",
   "metadata": {},
   "outputs": [],
   "source": [
    "with open(\"source.txt\", \"r\") as src, open(\"destination.txt\", \"w\") as dest:\n",
    "    dest.write(src.read())"
   ]
  },
  {
   "cell_type": "markdown",
   "id": "3d1447e1",
   "metadata": {},
   "source": [
    "**Q5: 5. How would you catch and handle division by zero error in Python**"
   ]
  },
  {
   "cell_type": "code",
   "execution_count": 5,
   "id": "f76f124f",
   "metadata": {},
   "outputs": [
    {
     "name": "stdout",
     "output_type": "stream",
     "text": [
      "Cannot divide by zero!\n"
     ]
    }
   ],
   "source": [
    "try:\n",
    "    result = 10 / 0\n",
    "except ZeroDivisionError:\n",
    "    print(\"Cannot divide by zero!\")"
   ]
  },
  {
   "cell_type": "markdown",
   "id": "205198c0",
   "metadata": {},
   "source": [
    "**Q6: 6. Write a Python program that logs an error message to a log file when a division by zero exception occurs**"
   ]
  },
  {
   "cell_type": "code",
   "execution_count": 6,
   "id": "144e18ce",
   "metadata": {},
   "outputs": [],
   "source": [
    "import logging\n",
    "logging.basicConfig(filename=\"error.log\", level=logging.ERROR)\n",
    "try:\n",
    "    1 / 0\n",
    "except ZeroDivisionError as e:\n",
    "    logging.error(\"Division by zero: %s\", e)"
   ]
  },
  {
   "cell_type": "markdown",
   "id": "f2347f2e",
   "metadata": {},
   "source": [
    "**Q7: 7. How do you log information at different levels (INFO, ERROR, WARNING) in Python using the logging module**"
   ]
  },
  {
   "cell_type": "code",
   "execution_count": 7,
   "id": "94d91292",
   "metadata": {},
   "outputs": [],
   "source": [
    "import logging\n",
    "logging.basicConfig(level=logging.DEBUG)\n",
    "logging.info(\"This is an info message\")\n",
    "logging.warning(\"This is a warning\")\n",
    "logging.error(\"This is an error\")"
   ]
  },
  {
   "cell_type": "markdown",
   "id": "62b31ece",
   "metadata": {},
   "source": [
    "**Q8: 8. Write a program to handle a file opening error using exception handling**"
   ]
  },
  {
   "cell_type": "code",
   "execution_count": 8,
   "id": "ec67d7bf",
   "metadata": {},
   "outputs": [
    {
     "name": "stdout",
     "output_type": "stream",
     "text": [
      "File error: [Errno 2] No such file or directory: 'nonexistent.txt'\n"
     ]
    }
   ],
   "source": [
    "try:\n",
    "    with open(\"nonexistent.txt\", \"r\") as f:\n",
    "        content = f.read()\n",
    "except IOError as e:\n",
    "    print(f\"File error: {e}\")"
   ]
  },
  {
   "cell_type": "markdown",
   "id": "b2fe388e",
   "metadata": {},
   "source": [
    "**Q9: 9. How can you read a file line by line and store its content in a list in Python**"
   ]
  },
  {
   "cell_type": "code",
   "execution_count": 9,
   "id": "6c5d1df8",
   "metadata": {},
   "outputs": [
    {
     "name": "stdout",
     "output_type": "stream",
     "text": [
      "['Line A\\n', 'Line B']\n"
     ]
    }
   ],
   "source": [
    "with open(\"data.txt\", \"r\") as f:\n",
    "    lines = f.readlines()\n",
    "print(lines)"
   ]
  },
  {
   "cell_type": "markdown",
   "id": "a97012c7",
   "metadata": {},
   "source": [
    "**Q10: 10. How can you append data to an existing file in Python**"
   ]
  },
  {
   "cell_type": "code",
   "execution_count": 10,
   "id": "56c99937",
   "metadata": {},
   "outputs": [],
   "source": [
    "with open(\"append.txt\", \"a\") as f:\n",
    "    f.write(\"\\nAdditional line.\")"
   ]
  },
  {
   "cell_type": "markdown",
   "id": "ca2972b0",
   "metadata": {},
   "source": [
    "**Q11: 11. Write a Python program that uses a try-except block to handle an error when attempting to access a dictionary key that doesn't exist**"
   ]
  },
  {
   "cell_type": "code",
   "execution_count": 11,
   "id": "9176cce9",
   "metadata": {},
   "outputs": [
    {
     "name": "stdout",
     "output_type": "stream",
     "text": [
      "Key does not exist\n"
     ]
    }
   ],
   "source": [
    "my_dict = {\"a\": 1}\n",
    "try:\n",
    "    print(my_dict[\"b\"])\n",
    "except KeyError:\n",
    "    print(\"Key does not exist\")"
   ]
  },
  {
   "cell_type": "markdown",
   "id": "d86d86f3",
   "metadata": {},
   "source": [
    "**Q12: 12. Write a program that demonstrates using multiple except blocks to handle different types of exceptions**"
   ]
  },
  {
   "cell_type": "code",
   "execution_count": 12,
   "id": "0f5c1735",
   "metadata": {},
   "outputs": [
    {
     "name": "stdout",
     "output_type": "stream",
     "text": [
      "Value error\n"
     ]
    }
   ],
   "source": [
    "try:\n",
    "    x = int(\"abc\")\n",
    "except ValueError:\n",
    "    print(\"Value error\")\n",
    "except TypeError:\n",
    "    print(\"Type error\")"
   ]
  },
  {
   "cell_type": "markdown",
   "id": "3ad1ae13",
   "metadata": {},
   "source": [
    "**Q13: 13. How would you check if a file exists before attempting to read it in Python**"
   ]
  },
  {
   "cell_type": "code",
   "execution_count": 13,
   "id": "5e86a669",
   "metadata": {},
   "outputs": [
    {
     "name": "stdout",
     "output_type": "stream",
     "text": [
      "This file is used to demonstrate existence check.\n"
     ]
    }
   ],
   "source": [
    "import os\n",
    "if os.path.exists(\"file.txt\"):\n",
    "    with open(\"file.txt\", \"r\") as f:\n",
    "        print(f.read())"
   ]
  },
  {
   "cell_type": "markdown",
   "id": "77b74e86",
   "metadata": {},
   "source": [
    "**Q14: 14. Write a program that uses the logging module to log both informational and error messages**"
   ]
  },
  {
   "cell_type": "code",
   "execution_count": 14,
   "id": "280e2fdb",
   "metadata": {},
   "outputs": [],
   "source": [
    "import logging\n",
    "logging.basicConfig(filename=\"app.log\", level=logging.INFO)\n",
    "logging.info(\"Info message\")\n",
    "logging.error(\"Error message\")"
   ]
  },
  {
   "cell_type": "markdown",
   "id": "00f14ac0",
   "metadata": {},
   "source": [
    "**Q15: 15. Write a Python program that prints the content of a file and handles the case when the file is empty**"
   ]
  },
  {
   "cell_type": "code",
   "execution_count": 15,
   "id": "8cdb0a8a",
   "metadata": {},
   "outputs": [
    {
     "name": "stdout",
     "output_type": "stream",
     "text": [
      "File is empty\n"
     ]
    }
   ],
   "source": [
    "with open(\"empty.txt\", \"r\") as f:\n",
    "    content = f.read()\n",
    "    if not content:\n",
    "        print(\"File is empty\")\n",
    "    else:\n",
    "        print(content)"
   ]
  },
  {
   "cell_type": "markdown",
   "id": "8bab4c8d",
   "metadata": {},
   "source": [
    "**Q16: 16. Demonstrate how to use memory profiling to check the memory usage of a small program**"
   ]
  },
  {
   "cell_type": "code",
   "execution_count": 16,
   "id": "0b23d686",
   "metadata": {},
   "outputs": [
    {
     "name": "stdout",
     "output_type": "stream",
     "text": [
      "Requirement already satisfied: memory-profiler in c:\\users\\kulde\\anaconda3\\lib\\site-packages (0.61.0)\n",
      "Requirement already satisfied: psutil in c:\\users\\kulde\\anaconda3\\lib\\site-packages (from memory-profiler) (5.9.0)\n"
     ]
    },
    {
     "name": "stderr",
     "output_type": "stream",
     "text": [
      "\n",
      "[notice] A new release of pip is available: 23.1.2 -> 25.1.1\n",
      "[notice] To update, run: python.exe -m pip install --upgrade pip\n"
     ]
    }
   ],
   "source": [
    "!pip install memory-profiler\n"
   ]
  },
  {
   "cell_type": "code",
   "execution_count": 17,
   "id": "ddc9d499",
   "metadata": {},
   "outputs": [
    {
     "name": "stdout",
     "output_type": "stream",
     "text": [
      "ERROR: Could not find file C:\\Users\\kulde\\AppData\\Local\\Temp\\ipykernel_12556\\3273901364.py\n"
     ]
    }
   ],
   "source": [
    "from memory_profiler import profile\n",
    "@profile\n",
    "def my_func():\n",
    "    a = [i for i in range(10000)]\n",
    "my_func()"
   ]
  },
  {
   "cell_type": "markdown",
   "id": "a9edd55a",
   "metadata": {},
   "source": [
    "**Q17: 17. Write a Python program to create and write a list of numbers to a file, one number per line**"
   ]
  },
  {
   "cell_type": "code",
   "execution_count": 18,
   "id": "bfbbe56e",
   "metadata": {},
   "outputs": [],
   "source": [
    "with open(\"numbers.txt\", \"w\") as f:\n",
    "    for i in range(10):\n",
    "        f.write(f\"{i}\\n\")"
   ]
  },
  {
   "cell_type": "markdown",
   "id": "44cfeb9f",
   "metadata": {},
   "source": [
    "**Q18: 18. How would you implement a basic logging setup that logs to a file with rotation after 1MB**"
   ]
  },
  {
   "cell_type": "code",
   "execution_count": 19,
   "id": "30b51f77",
   "metadata": {},
   "outputs": [],
   "source": [
    "import logging.handlers\n",
    "handler = logging.handlers.RotatingFileHandler(\"rotate.log\", maxBytes=1024*1024, backupCount=5)\n",
    "logging.basicConfig(handlers=[handler], level=logging.INFO)\n",
    "logging.info(\"Test rotation log\")"
   ]
  },
  {
   "cell_type": "markdown",
   "id": "71a4a0c6",
   "metadata": {},
   "source": [
    "**Q19: 19. Write a program that handles both IndexError and KeyError using a try-except block**"
   ]
  },
  {
   "cell_type": "code",
   "execution_count": 20,
   "id": "3fa3c404",
   "metadata": {},
   "outputs": [
    {
     "name": "stdout",
     "output_type": "stream",
     "text": [
      "IndexError caught\n",
      "KeyError caught\n"
     ]
    }
   ],
   "source": [
    "try:\n",
    "    lst = [1, 2]\n",
    "    print(lst[5])\n",
    "except IndexError:\n",
    "    print(\"IndexError caught\")\n",
    "try:\n",
    "    d = {}\n",
    "    print(d[\"x\"])\n",
    "except KeyError:\n",
    "    print(\"KeyError caught\")"
   ]
  },
  {
   "cell_type": "markdown",
   "id": "8abb377e",
   "metadata": {},
   "source": [
    "**Q20: 20. How would you open a file and read its contents using a context manager in Python**"
   ]
  },
  {
   "cell_type": "code",
   "execution_count": 21,
   "id": "506b1780",
   "metadata": {},
   "outputs": [
    {
     "name": "stdout",
     "output_type": "stream",
     "text": [
      "This is sample text content.\n"
     ]
    }
   ],
   "source": [
    "with open(\"sample.txt\", \"r\") as f:\n",
    "    print(f.read())"
   ]
  },
  {
   "cell_type": "markdown",
   "id": "e491bbe8",
   "metadata": {},
   "source": [
    "**Q21: 21. Write a Python program that reads a file and prints the number of occurrences of a specific word**"
   ]
  },
  {
   "cell_type": "code",
   "execution_count": 22,
   "id": "9a533b66",
   "metadata": {},
   "outputs": [
    {
     "name": "stdout",
     "output_type": "stream",
     "text": [
      "Occurrences of example: 3\n"
     ]
    }
   ],
   "source": [
    "word = \"example\"\n",
    "count = 0\n",
    "with open(\"document.txt\", \"r\") as f:\n",
    "    for line in f:\n",
    "        count += line.count(word)\n",
    "print(f\"Occurrences of {word}: {count}\")"
   ]
  },
  {
   "cell_type": "markdown",
   "id": "d819d9be",
   "metadata": {},
   "source": [
    "**Q22: 22. How can you check if a file is empty before attempting to read its contents**"
   ]
  },
  {
   "cell_type": "code",
   "execution_count": 23,
   "id": "8a14f48a",
   "metadata": {},
   "outputs": [
    {
     "name": "stdout",
     "output_type": "stream",
     "text": [
      "File is empty\n"
     ]
    }
   ],
   "source": [
    "import os\n",
    "if os.stat(\"empty.txt\").st_size == 0:\n",
    "    print(\"File is empty\")"
   ]
  },
  {
   "cell_type": "markdown",
   "id": "49e84ffc",
   "metadata": {},
   "source": [
    "**Q23: 23. Write a Python program that writes to a log file when an error occurs during file handling.**"
   ]
  },
  {
   "cell_type": "code",
   "execution_count": 24,
   "id": "8d20f5d0",
   "metadata": {},
   "outputs": [],
   "source": [
    "try:\n",
    "    with open(\"error.txt\", \"r\") as f:\n",
    "        f.read()\n",
    "except Exception as e:\n",
    "    with open(\"log.txt\", \"a\") as log:\n",
    "        log.write(f\"Error: {e}\\n\")"
   ]
  },
  {
   "cell_type": "markdown",
   "id": "b7cb97cb",
   "metadata": {},
   "source": [
    "# --------------------------- Thank You ---------------------------------"
   ]
  },
  {
   "cell_type": "code",
   "execution_count": null,
   "id": "4b566d95",
   "metadata": {},
   "outputs": [],
   "source": []
  }
 ],
 "metadata": {
  "kernelspec": {
   "display_name": "Python 3 (ipykernel)",
   "language": "python",
   "name": "python3"
  },
  "language_info": {
   "codemirror_mode": {
    "name": "ipython",
    "version": 3
   },
   "file_extension": ".py",
   "mimetype": "text/x-python",
   "name": "python",
   "nbconvert_exporter": "python",
   "pygments_lexer": "ipython3",
   "version": "3.9.13"
  }
 },
 "nbformat": 4,
 "nbformat_minor": 5
}
